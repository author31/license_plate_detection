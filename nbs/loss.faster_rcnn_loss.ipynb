{
 "cells": [
  {
   "cell_type": "code",
   "execution_count": null,
   "id": "877bcfdd-ac63-420b-b4d6-c846b128dbb2",
   "metadata": {},
   "outputs": [],
   "source": [
    "#| default_exp loss.faster_rcnn_loss"
   ]
  },
  {
   "cell_type": "code",
   "execution_count": null,
   "id": "1bfbd569-6be8-495c-afa6-f861595db0cb",
   "metadata": {},
   "outputs": [],
   "source": [
    "#| hide\n",
    "from nbdev.showdoc import *"
   ]
  },
  {
   "cell_type": "code",
   "execution_count": null,
   "id": "cbe27ccb-32b5-45e2-9a77-2f8017337c7e",
   "metadata": {},
   "outputs": [],
   "source": [
    "#| export\n",
    "from fastai.vision.all import *\n",
    "from license_plate_detection.loss.roi_loss import ROILoss\n",
    "from license_plate_detection.loss.rpn_loss import RPNLoss"
   ]
  },
  {
   "cell_type": "code",
   "execution_count": null,
   "id": "e645838f-a6a1-435a-aab0-db033b55ea44",
   "metadata": {},
   "outputs": [],
   "source": [
    "#| export\n",
    "class FasterRCNNLoss(Module):\n",
    "    def __init__(self):\n",
    "        self.rpn_loss_func= RPNLoss()\n",
    "        self.roi_loss_func= ROILoss()\n",
    "        self.rpn_attrs= ['rpn_loss','rpn_cls_loss','rpn_reg_loss']\n",
    "        self.roi_attrs= ['roi_loss','roi_cls_loss','roi_reg_loss']\n",
    "        \n",
    "    def set_metrics_attr(self, attr_list, losses):\n",
    "        [setattr(self, name, value) for name, value in zip(attr_list, losses)]\n",
    "        \n",
    "    def forward(self, y_pred, rpn_gt, roi_gt, yb):\n",
    "        rpn_reg_feats, rpn_cls_feats, rois= y_pred[:3]\n",
    "        roi_reg_feats, roi_cls_feats=y_pred[3:]\n",
    "        rpn_losses= self.rpn_loss_func(rpn_reg_feats,rpn_cls_feats,rpn_gt)\n",
    "        roi_losses= self.roi_loss_func(roi_reg_feats,roi_cls_feats,roi_gt)\n",
    "        self.set_metrics_attr(self.rpn_attrs, rpn_losses)\n",
    "        self.set_metrics_attr(self.roi_attrs, roi_losses)\n",
    "        loss =self.rpn_loss+self.roi_loss\n",
    "        return loss\n"
   ]
  },
  {
   "cell_type": "code",
   "execution_count": null,
   "id": "e220d365-dbf5-49a5-8e29-5bc5da470a32",
   "metadata": {},
   "outputs": [],
   "source": [
    "#| hide\n",
    "import nbdev; nbdev.nbdev_export()"
   ]
  }
 ],
 "metadata": {
  "kernelspec": {
   "display_name": "sdp_tw",
   "language": "python",
   "name": "sdp_tw"
  }
 },
 "nbformat": 4,
 "nbformat_minor": 5
}
