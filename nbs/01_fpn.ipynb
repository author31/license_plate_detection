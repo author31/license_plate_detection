{
 "cells": [
  {
   "cell_type": "code",
   "execution_count": null,
   "id": "88e21568-c588-413f-811d-655d887440b5",
   "metadata": {},
   "outputs": [],
   "source": [
    "#|default_exp fpn"
   ]
  },
  {
   "cell_type": "code",
   "execution_count": null,
   "id": "84012970-3bce-4868-9bea-890a6d9d9c7e",
   "metadata": {},
   "outputs": [],
   "source": [
    "#|hide\n",
    "from nbdev.showdoc import *"
   ]
  },
  {
   "cell_type": "code",
   "execution_count": null,
   "id": "6bf44124-33f0-4b71-925f-0c11a3e4efda",
   "metadata": {},
   "outputs": [
    {
     "name": "stderr",
     "output_type": "stream",
     "text": [
      "/home/lionrock/anaconda3/envs/sdp_tw/lib/python3.9/site-packages/tqdm/auto.py:22: TqdmWarning: IProgress not found. Please update jupyter and ipywidgets. See https://ipywidgets.readthedocs.io/en/stable/user_install.html\n",
      "  from .autonotebook import tqdm as notebook_tqdm\n"
     ]
    }
   ],
   "source": [
    "#|export\n",
    "import copy\n",
    "import timm\n",
    "import torch.nn as nn"
   ]
  },
  {
   "cell_type": "code",
   "execution_count": null,
   "id": "d92afbaf-515a-417f-bb9f-172a60776a07",
   "metadata": {},
   "outputs": [],
   "source": [
    "#|export\n",
    "class FPN(nn.Module):\n",
    "    \"\"\"implementation of FPN (feature pyramid) https://arxiv.org/pdf/1612.03144.pdf\"\"\"\n",
    "    def __init__(self, feature_channels, out_indices):\n",
    "        super().__init__()\n",
    "        \n",
    "        self.feature_channels=feature_channels\n",
    "        self.out_indices=out_indices\n",
    "        self.up_sample=nn.Upsample(scale_factor=2)\n",
    "        self.lat_convs=self._get_lat_convs()\n",
    "    \n",
    "    #TODO add conv3x3 after merge to reduce aliasing effect\n",
    "    def conv1x1(self, in_c, out_c):\n",
    "        return nn.Conv2d(in_c, out_c, kernel_size=1)\n",
    "        \n",
    "    def _get_lat_convs(self):\n",
    "        \"\"\"generate 1x1convs for lateral connections\"\"\"\n",
    "        feature_channels=copy.deepcopy(self.feature_channels)\n",
    "        feature_channels.insert(0, feature_channels[0])\n",
    "        assert len(feature_channels)==len(self.out_indices)+1 \n",
    "        lat_convs=[]\n",
    "        for idx in range(0, len(feature_channels)-1, 1): \n",
    "            in_c, out_c = feature_channels[idx+1], 256\n",
    "            conv1=self.conv1x1(in_c, out_c)\n",
    "            lat_convs.append(conv1)\n",
    "        return nn.Sequential(*lat_convs)\n",
    "    \n",
    "    def forward(self, x):\n",
    "        lat_feats=[]\n",
    "        for idx in range(len(x)-1, -1, -1):\n",
    "            if idx==3: merge=self.lat_convs[idx](x[idx])\n",
    "            else: merge=self.up_sample(merge)+self.lat_convs[idx](x[idx])\n",
    "            lat_feats.append(merge)\n",
    "        return lat_feats"
   ]
  },
  {
   "cell_type": "code",
   "execution_count": null,
   "id": "b27d1d5a-0198-461c-82ed-2e2a01af05a9",
   "metadata": {},
   "outputs": [],
   "source": [
    "#|hide\n",
    "from nbdev import nbdev_export\n",
    "nbdev_export()"
   ]
  },
  {
   "cell_type": "code",
   "execution_count": null,
   "id": "63f20f50-b5dd-49df-9a39-ca0cc5bc6ee1",
   "metadata": {},
   "outputs": [],
   "source": []
  },
  {
   "cell_type": "code",
   "execution_count": null,
   "id": "cb40d5c0-a243-4998-9114-5e335b337647",
   "metadata": {},
   "outputs": [],
   "source": []
  }
 ],
 "metadata": {
  "kernelspec": {
   "display_name": "Python 3 (ipykernel)",
   "language": "python",
   "name": "python3"
  }
 },
 "nbformat": 4,
 "nbformat_minor": 5
}
