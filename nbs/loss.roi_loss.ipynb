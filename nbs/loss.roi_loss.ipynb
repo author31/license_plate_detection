{
 "cells": [
  {
   "cell_type": "code",
   "execution_count": null,
   "id": "877bcfdd-ac63-420b-b4d6-c846b128dbb2",
   "metadata": {},
   "outputs": [],
   "source": [
    "#| default_exp loss.roi_loss"
   ]
  },
  {
   "cell_type": "code",
   "execution_count": null,
   "id": "1bfbd569-6be8-495c-afa6-f861595db0cb",
   "metadata": {},
   "outputs": [],
   "source": [
    "#| hide\n",
    "from nbdev.showdoc import *"
   ]
  },
  {
   "cell_type": "code",
   "execution_count": null,
   "id": "cbe27ccb-32b5-45e2-9a77-2f8017337c7e",
   "metadata": {},
   "outputs": [],
   "source": [
    "#| export\n",
    "from fastai.vision.all import *\n",
    "from license_plate_detection.loss.base import BaseLoss"
   ]
  },
  {
   "cell_type": "code",
   "execution_count": null,
   "id": "b8ab4c53-aa9d-4d86-99f6-7a966c3f08c2",
   "metadata": {},
   "outputs": [],
   "source": [
    "#| export\n",
    "class ROILoss(BaseLoss):\n",
    "    def __init__(self):\n",
    "        self.roi_sigma=1.\n",
    "        super().__init__()\n",
    "    \n",
    "    def forward(self, \n",
    "                 roi_reg_feats, \n",
    "                 roi_cls_feats, \n",
    "                 roi_gt):\n",
    "        gt_roi_cls, gt_roi_reg= roi_gt\n",
    "        roi_cls_loss= self.cls_loss_func(roi_cls_feats, gt_roi_cls)\n",
    "        roi_reg_loss= self.reg_loss_func(roi_reg_feats, \n",
    "                                             gt_roi_reg, \n",
    "                                             gt_roi_cls, \n",
    "                                             self.roi_sigma)\n",
    "        roi_loss= self.joint_loss(roi_reg_loss, roi_cls_loss)\n",
    "        return [roi_loss, roi_cls_loss, roi_reg_loss]"
   ]
  },
  {
   "cell_type": "code",
   "execution_count": null,
   "id": "e220d365-dbf5-49a5-8e29-5bc5da470a32",
   "metadata": {},
   "outputs": [],
   "source": [
    "#| hide\n",
    "import nbdev; nbdev.nbdev_export()"
   ]
  }
 ],
 "metadata": {
  "kernelspec": {
   "display_name": "sdp_tw",
   "language": "python",
   "name": "sdp_tw"
  }
 },
 "nbformat": 4,
 "nbformat_minor": 5
}
