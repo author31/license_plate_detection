{
 "cells": [
  {
   "cell_type": "code",
   "execution_count": null,
   "id": "877bcfdd-ac63-420b-b4d6-c846b128dbb2",
   "metadata": {},
   "outputs": [],
   "source": [
    "#| default_exp model.detector"
   ]
  },
  {
   "cell_type": "code",
   "execution_count": null,
   "id": "1bfbd569-6be8-495c-afa6-f861595db0cb",
   "metadata": {},
   "outputs": [],
   "source": [
    "#| hide\n",
    "from nbdev.showdoc import *\n",
    "%load_ext autoreload\n",
    "%autoreload 2"
   ]
  },
  {
   "cell_type": "code",
   "execution_count": null,
   "id": "6af1b0d5-d428-47fc-839d-5dbb2ebb6b71",
   "metadata": {},
   "outputs": [],
   "source": [
    "#|export\n",
    "import cv2\n",
    "import timm\n",
    "import torch\n",
    "import pickle\n",
    "import random\n",
    "import torch.nn as nn\n",
    "from license_plate_detection.utils import *\n",
    "from fastai.vision.all import *\n",
    "from torchvision.ops import roi_align\n",
    "from license_plate_detection.fpn import *\n",
    "from license_plate_detection.model import *"
   ]
  },
  {
   "cell_type": "code",
   "execution_count": null,
   "id": "6d3ad934-22a9-45d3-af43-f661b123bf73",
   "metadata": {},
   "outputs": [],
   "source": [
    "#| export\n",
    "class FasterRCNN(nn.Module):\n",
    "    def __init__(self, backbone, rpn, roi):\n",
    "        super().__init__()\n",
    "        \n",
    "        #TODO add fpn\n",
    "        self.backbone= backbone\n",
    "        self.rpn_head= rpn\n",
    "        self.roi_head= roi\n",
    "        # self.fpn= fpn\n",
    "    \n",
    "    @classmethod\n",
    "    def init_model(cls, arch, dls, ratios, scales, device='cuda'):\n",
    "        xb= dls.one_batch()[0].shape\n",
    "        dummy_inp= torch.empty(xb)\n",
    "        backbone= timm.create_model(arch, features_only=True, out_indices=[2])\n",
    "        with torch.no_grad(): dummy_ft= backbone(dummy_inp)[0].shape\n",
    "        stride= torch.Tensor([xb[-2:]])/torch.Tensor([dummy_ft[-2:]])\n",
    "        num_classes= len(dls.vocab)-1\n",
    "        rpn=RPN(dummy_ft[1], stride, ratios, scales, dummy_ft[-2:], device)\n",
    "        roi= ROI(dummy_ft[1], num_classes)\n",
    "        return cls(backbone,rpn,roi)\n",
    "        \n",
    "    def forward(self, x):\n",
    "        x = self.backbone(x)[0]\n",
    "        rpn_reg_feats, rpn_cls_feats, rois= self.rpn_head(x)\n",
    "        roi_reg_feats, roi_cls_feats= self.roi_head(x, rois)\n",
    "        return rpn_reg_feats, rpn_cls_feats, rois, roi_reg_feats, roi_cls_feats"
   ]
  },
  {
   "cell_type": "code",
   "execution_count": null,
   "id": "e220d365-dbf5-49a5-8e29-5bc5da470a32",
   "metadata": {},
   "outputs": [],
   "source": [
    "#| hide\n",
    "import nbdev; nbdev.nbdev_export()"
   ]
  }
 ],
 "metadata": {
  "kernelspec": {
   "display_name": "clone_sdp",
   "language": "python",
   "name": "clone_sdp"
  }
 },
 "nbformat": 4,
 "nbformat_minor": 5
}
