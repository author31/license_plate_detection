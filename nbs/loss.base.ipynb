{
 "cells": [
  {
   "cell_type": "code",
   "execution_count": null,
   "id": "877bcfdd-ac63-420b-b4d6-c846b128dbb2",
   "metadata": {},
   "outputs": [],
   "source": [
    "#| default_exp loss.base"
   ]
  },
  {
   "cell_type": "code",
   "execution_count": null,
   "id": "1bfbd569-6be8-495c-afa6-f861595db0cb",
   "metadata": {},
   "outputs": [],
   "source": [
    "#| hide\n",
    "from nbdev.showdoc import *"
   ]
  },
  {
   "cell_type": "code",
   "execution_count": null,
   "id": "00b6597b-5fd7-4d0b-a083-699b8c2724fc",
   "metadata": {},
   "outputs": [],
   "source": [
    "#| export\n",
    "from fastai.vision.all import *"
   ]
  },
  {
   "cell_type": "code",
   "execution_count": null,
   "id": "b46b0d31-e619-4af4-b938-2c6dba1e166f",
   "metadata": {},
   "outputs": [],
   "source": [
    "#| export\n",
    "#adopted from simple_faster_rcnn repo\n",
    "def _smooth_l1_loss(x, t, in_weight, sigma):\n",
    "    sigma2 = sigma ** 2\n",
    "    diff = in_weight * (x - t)\n",
    "    abs_diff = diff.abs()\n",
    "    flag = (abs_diff.data < (1. / sigma2)).float()\n",
    "    y = (flag * (sigma2 / 2.) * (diff ** 2) +\n",
    "         (1 - flag) * (abs_diff - 0.5 / sigma2))\n",
    "    return y.sum()\n",
    "\n",
    "def _fast_rcnn_loc_loss(pred_loc, gt_loc, gt_label, sigma):\n",
    "    in_weight = torch.zeros(gt_loc.shape).cuda()\n",
    "    # Localization loss is calculated only for positive rois.\n",
    "    # NOTE:  unlike origin implementation, \n",
    "    # we don't need inside_weight and outside_weight, they can calculate by gt_label\n",
    "    in_weight[(gt_label > 0).view(gt_label.shape[0],-1, 1).expand_as(in_weight).cuda()] = 1\n",
    "    loc_loss = _smooth_l1_loss(TensorPoint(pred_loc), gt_loc, in_weight.detach(), sigma)\n",
    "    # Normalize by total number of negtive and positive rois.\n",
    "    loc_loss /= ((gt_label >= 0).sum().float()) # ignore gt_label==-1 for rpn_loss\n",
    "    return loc_loss"
   ]
  },
  {
   "cell_type": "code",
   "execution_count": null,
   "id": "ff6db092-5132-436c-ab60-c4c8d238730d",
   "metadata": {},
   "outputs": [],
   "source": [
    "#| export\n",
    "class BaseLoss(Module):\n",
    "    def __init__(self):\n",
    "        self.cls_loss_func= CrossEntropyLossFlat(ignore_index=-1)\n",
    "        self.reg_loss_func= _fast_rcnn_loc_loss\n",
    "    \n",
    "    def joint_loss(self, reg_loss, cls_loss):\n",
    "        loss= (cls_loss+reg_loss)\n",
    "        return loss.sum()"
   ]
  },
  {
   "cell_type": "code",
   "execution_count": null,
   "id": "e220d365-dbf5-49a5-8e29-5bc5da470a32",
   "metadata": {},
   "outputs": [],
   "source": [
    "#| hide\n",
    "import nbdev; nbdev.nbdev_export()"
   ]
  }
 ],
 "metadata": {
  "kernelspec": {
   "display_name": "sdp_tw",
   "language": "python",
   "name": "sdp_tw"
  }
 },
 "nbformat": 4,
 "nbformat_minor": 5
}
