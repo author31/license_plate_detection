{
 "cells": [
  {
   "cell_type": "code",
   "execution_count": null,
   "metadata": {},
   "outputs": [],
   "source": [
    "#|hide\n",
    "from license_plate_detection import *"
   ]
  },
  {
   "cell_type": "markdown",
   "metadata": {},
   "source": [
    "# License Plate Detection\n",
    "\n",
    "> This repository aims to re-implement a well-know object detection method FasterRCNN using [fastai](https:/docs.fast.ai). The dataset is [Towards End-to-End License Plate Detection and Recognition: A Large Dataset and Baseline](https://github.com/detectRecog/CCPD)."
   ]
  },
  {
   "cell_type": "markdown",
   "metadata": {},
   "source": [
    "## Install"
   ]
  },
  {
   "cell_type": "markdown",
   "metadata": {},
   "source": [
    "`pip install license_plate_detection`"
   ]
  },
  {
   "cell_type": "markdown",
   "metadata": {},
   "source": [
    "## How to use"
   ]
  },
  {
   "cell_type": "markdown",
   "metadata": {},
   "source": [
    "### Download the dataset\n",
    "\n",
    "Download the dataset from https://github.com/detectRecog/CCPD and put all of that into a directory. There is a ./exp/license_ds.csv file contains only samples of ccpd_base directory (there are few other of ccpd_* for other weather conditions) which is for faster data loading in fastai. For simplicity, I only used ccpd_base."
   ]
  },
  {
   "cell_type": "markdown",
   "metadata": {},
   "source": [
    "### Experimenting\n",
    "-  There is a notebook named /exps/faster_rcnn.ipynb that illustrates a whole training neural workflow from loading dataset to inference"
   ]
  },
  {
   "cell_type": "markdown",
   "metadata": {},
   "source": [
    "### TODO\n",
    "- Model haven't been well trained, there must be some wrong implemtations\n",
    "- Improve NMS operation, the current stage of region refinement of RPN is lack of NMS because the pure NMS is slow which may affects the speed of training\n",
    "- Add OCR feature for detecting the license plate number of each predictions\n",
    "- Add RPN config for easier customization"
   ]
  }
 ],
 "metadata": {
  "kernelspec": {
   "display_name": "clone_sdp",
   "language": "python",
   "name": "clone_sdp"
  }
 },
 "nbformat": 4,
 "nbformat_minor": 4
}
