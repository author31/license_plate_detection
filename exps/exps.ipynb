{
 "cells": [
  {
   "cell_type": "markdown",
   "metadata": {},
   "source": [
    "# Model\n",
    "\n",
    "> API details."
   ]
  },
  {
   "cell_type": "code",
   "execution_count": null,
   "metadata": {},
   "outputs": [],
   "source": [
    "#|hide\n",
    "from nbdev.showdoc import *\n",
    "%matplotlib inline\n",
    "%load_ext autoreload\n",
    "%autoreload 2"
   ]
  },
  {
   "cell_type": "code",
   "execution_count": null,
   "metadata": {},
   "outputs": [],
   "source": [
    "#|export\n",
    "import cv2\n",
    "import timm\n",
    "import torch\n",
    "import pickle\n",
    "import random\n",
    "import torch.nn as nn\n",
    "from license_plate_detection.bbox_utils import *\n",
    "from fastai.vision.all import *\n",
    "from torchvision.ops import roi_align\n",
    "from license_plate_detection.fpn import *"
   ]
  },
  {
   "cell_type": "code",
   "execution_count": null,
   "metadata": {},
   "outputs": [],
   "source": [
    "def pseudo_draw(anchors, im=None, size=128):\n",
    "    if im is None: t = np.ones([size, size])\n",
    "    else: t = im\n",
    "    t = draw_bboxes(t, anchors)\n",
    "    show_image(t)\n",
    "    return t"
   ]
  },
  {
   "cell_type": "code",
   "execution_count": null,
   "metadata": {},
   "outputs": [],
   "source": [
    "root= Path(\"/home/aucsie/Documents/practice/\")\n",
    "xb_path = root/'one_batch.pkl'\n",
    "yb_path = root/'one_batch_yb.pkl'"
   ]
  },
  {
   "cell_type": "code",
   "execution_count": null,
   "metadata": {},
   "outputs": [],
   "source": [
    "class CPU_Unpickler(pickle.Unpickler):\n",
    "    def find_class(self, module, name):\n",
    "        if module == 'torch.storage' and name == '_load_from_bytes':\n",
    "            return lambda b: torch.load(io.BytesIO(b), map_location='cpu')\n",
    "        else: return super().find_class(module, name)"
   ]
  },
  {
   "cell_type": "code",
   "execution_count": null,
   "metadata": {},
   "outputs": [],
   "source": [
    "xb= CPU_Unpickler(open(xb_path, 'rb')).load().cuda()\n",
    "yb= CPU_Unpickler(open(yb_path, 'rb')).load().cuda()"
   ]
  },
  {
   "cell_type": "code",
   "execution_count": null,
   "metadata": {},
   "outputs": [],
   "source": [
    "arch= 'resnet50'"
   ]
  },
  {
   "cell_type": "code",
   "execution_count": null,
   "metadata": {},
   "outputs": [],
   "source": [
    "device='cuda:0'\n",
    "out_indices=[1, 2, 3, 4]\n",
    "feature_channels=[256, 512, 1024, 2048]\n",
    "# backbone= timm.create_model(arch, features_only=False, out_indices=out_indices)\n",
    "# backbone= timm.create_model(arch, features_only=True, out_indices=out_indices)"
   ]
  },
  {
   "cell_type": "code",
   "execution_count": null,
   "metadata": {},
   "outputs": [],
   "source": [
    "# features=backbone(xb)\n",
    "# [f.shape for f in features]"
   ]
  },
  {
   "cell_type": "code",
   "execution_count": null,
   "metadata": {},
   "outputs": [],
   "source": [
    "# fpn=FPN(feature_channels, out_indices)"
   ]
  },
  {
   "cell_type": "code",
   "execution_count": null,
   "metadata": {},
   "outputs": [],
   "source": [
    "# fpn_feat = fpn(features)"
   ]
  },
  {
   "cell_type": "code",
   "execution_count": null,
   "metadata": {},
   "outputs": [],
   "source": [
    "# for f in fpn_feat: print(f.shape)"
   ]
  },
  {
   "cell_type": "code",
   "execution_count": null,
   "metadata": {},
   "outputs": [],
   "source": [
    "def draw_grid(img_shape, stride):\n",
    "    im=np.zeros([*img_shape])\n",
    "    x1=np.arange(0, img_shape[0], stride)\n",
    "    y1=np.arange(0, img_shape[1], stride)\n",
    "    for x in x1:\n",
    "        for y in y1:\n",
    "            cv2.line(im, (x,y), (x,img_shape[1]), (255,255,255), 1)\n",
    "            cv2.line(im, (x,y), (img_shape[0], y), (255,255,255), 1)\n",
    "    show_image(im, figsize=(6, 6))\n",
    "    return im"
   ]
  },
  {
   "cell_type": "code",
   "execution_count": null,
   "metadata": {},
   "outputs": [],
   "source": [
    "class AnchorGenerator:\n",
    "    def __init__(self, stride, ratios, scales, feature_map):\n",
    "        self.stride=stride\n",
    "        self.ratios=np.array(ratios)\n",
    "        self.scales=np.array(scales)\n",
    "        self.feature_map=feature_map\n",
    "    \n",
    "    def generate_base_anchors(self):\n",
    "        h_ratios= np.sqrt(self.ratios)\n",
    "        w_ratios=1/h_ratios\n",
    "        hs =(h_ratios[:, None]*self.scales[None, :]).ravel()\n",
    "        ws =(w_ratios[:, None]*self.scales[None, :]).ravel()\n",
    "        xc, yc= 0., 0.\n",
    "        base_anchors=np.array([\n",
    "            -ws, -hs, ws, hs\n",
    "        ]).T/2\n",
    "        return base_anchors\n",
    "    \n",
    "    def generate_all_anchors(self):\n",
    "        base_anchors= self.generate_base_anchors()\n",
    "        num_k= base_anchors.shape[0]\n",
    "        h, w = self.feature_map.shape\n",
    "        shift_x= np.arange(0, w)*self.stride\n",
    "        shift_y= np.arange(0, h)*self.stride\n",
    "        shift_xx, shift_yy= np.meshgrid(shift_x, shift_y)\n",
    "        shifts= np.stack([shift_xx.ravel(), shift_yy.ravel(), shift_xx.ravel(), shift_yy.ravel()])\n",
    "        all_anchors= base_anchors[None, :, :]+ shifts.T[:, None, :]\n",
    "        all_anchors= all_anchors.reshape(-1, 4)\n",
    "        return all_anchors, num_k"
   ]
  },
  {
   "cell_type": "code",
   "execution_count": null,
   "metadata": {},
   "outputs": [],
   "source": [
    "# valid_flags= assign_anchor(all_anchors, test_bbox)"
   ]
  },
  {
   "cell_type": "code",
   "execution_count": null,
   "metadata": {},
   "outputs": [],
   "source": [
    "# valid_anchors=all_anchors[valid_flags==1]"
   ]
  },
  {
   "cell_type": "code",
   "execution_count": null,
   "metadata": {},
   "outputs": [],
   "source": [
    "class RPN(nn.Module):\n",
    "    def __init__(self, anchor_generator, stride, ratios, scales, feature_map):\n",
    "        super().__init__()\n",
    "        generator= anchor_generator(stride, ratios, scales, feature_map)\n",
    "        self.all_anchors, self.num_k= generator.generate_all_anchors()\n",
    "        self.shared_conv= nn.Conv2d(512, 512, 3, 1, 1)\n",
    "        self.reg_conv= nn.Conv2d(512, 4*self.num_k, 1, 1)\n",
    "        self.cls_conv= nn.Conv2d(512, 2*self.num_k, 1, 1)\n",
    "    \n",
    "    def get_rpn_gt(self, gt_bboxes):\n",
    "        valid_flags= assign_anchor(self.all_anchors, gt_bboxes)\n",
    "        gt_rpn_cls= sample_anchor(self.all_anchors, valid_flags)\n",
    "        anchors= self.all_anchors[gt_rpn_cls==1]\n",
    "        gt_rpn_reg= calc_offset(gt_bboxes, anchors)\n",
    "        return gt_rpn_cls, gt_rpn_reg, anchors\n",
    "        \n",
    "    def forward(self, x):\n",
    "        x= self.shared_conv(x)\n",
    "        reg_feats= self.reg_conv(x)\n",
    "        cls_feats= self.cls_conv(x)\n",
    "        return reg_feats, cls_feats"
   ]
  },
  {
   "cell_type": "code",
   "execution_count": null,
   "metadata": {},
   "outputs": [],
   "source": [
    "def reg2loc(reg_feats, n):\n",
    "    return reg_feats.permute(0,2,3,1).contiguous().view(n,-1,4)"
   ]
  },
  {
   "cell_type": "code",
   "execution_count": null,
   "metadata": {},
   "outputs": [],
   "source": [
    "class ROIHead(nn.Module):\n",
    "    def __init__(self, in_channels, num_classes, roi_feat_size=(7,7)):\n",
    "        super().__init__()\n",
    "        self.roi_head= roi_align\n",
    "        self.roi_feat_size= roi_feat_size\n",
    "        self.shared_conv= nn.Conv2d(in_channels, in_channels, 3, 1, 1)\n",
    "        self.reg_conv=nn.Conv2d(in_channels, num_classes*4, 1, 1)\n",
    "        self.cls_conv=nn.Conv2d(in_channels, num_classes, 1, 1)\n",
    "    \n",
    "    def forward(self, x, rois):\n",
    "        roi_feats= self.roi_head(x, rois, self.roi_feat_size)\n",
    "        shared_feats= self.shared_conv(roi_feats)\n",
    "        roi_reg_feats= self.reg_conv(shared_feats)\n",
    "        roi_cls_feats= self.cls_conv(shared_feats)\n",
    "        roi_reg_feats= reg2loc(reg_feats, x.shape[0])\n",
    "        return roi_reg_feats, roi_cls_feats"
   ]
  },
  {
   "cell_type": "code",
   "execution_count": null,
   "metadata": {},
   "outputs": [],
   "source": [
    "backbone= timm.create_model(arch, features_only=True, out_indices=[2], ).cuda()"
   ]
  },
  {
   "cell_type": "code",
   "execution_count": null,
   "metadata": {},
   "outputs": [],
   "source": [
    "test_bbox =unscale_pnts(yb[:3], 128).detach().cpu().numpy().reshape(-1, 4)\n",
    "test_bbox= tensor(test_bbox)"
   ]
  },
  {
   "cell_type": "code",
   "execution_count": null,
   "metadata": {},
   "outputs": [],
   "source": [
    "feature_map= np.zeros([16, 16])\n",
    "stride=16\n",
    "ratios=[0.5]\n",
    "scales=[35]\n",
    "rpn=RPN(AnchorGenerator, stride, ratios, scales, feature_map).cuda()"
   ]
  },
  {
   "cell_type": "code",
   "execution_count": null,
   "metadata": {},
   "outputs": [],
   "source": [
    "x= backbone(xb)[0]"
   ]
  },
  {
   "cell_type": "code",
   "execution_count": null,
   "metadata": {},
   "outputs": [],
   "source": [
    "reg_feats, cls_feats= rpn(x)"
   ]
  },
  {
   "cell_type": "code",
   "execution_count": null,
   "metadata": {},
   "outputs": [],
   "source": [
    "all_anchors= rpn.all_anchors\n",
    "all_anchors= tensor(all_anchors)"
   ]
  },
  {
   "cell_type": "code",
   "execution_count": null,
   "metadata": {},
   "outputs": [],
   "source": [
    "roi_head= ROIHead(512, 4)"
   ]
  },
  {
   "cell_type": "code",
   "execution_count": null,
   "metadata": {},
   "outputs": [],
   "source": [
    "class FasterRCNN(nn.Module):\n",
    "    def __init__(self, backbone, rpn, roi):\n",
    "        super().__init__()\n",
    "        \n",
    "        #TODO add fpn\n",
    "        self.backbone= backbone\n",
    "        self.rpn_head= rpn\n",
    "        self.roi_head= roi\n",
    "        # self.fpn= fpn\n",
    "    \n",
    "    def forward(self, x, gt_bboxes):\n",
    "        x = self.backbone(x)[0]\n",
    "        rpn_reg_feats, rpn_cls_feats= self.rpn_head(x)\n",
    "        _, gt_rpn_reg, anchors= self.rpn_head.get_rpn_gt(gt_bboxes) \n",
    "        rois= reverse_offset(anchors, gt_rpn_reg)\n",
    "        rois= [tensor(r).unsqueeze(0) for r in rois]\n",
    "        roi_reg_feats, roi_cls_feats= self.roi_head(x, rois)\n",
    "        features= dict(rpn_reg_feats=rpn_reg_feats,\n",
    "                       rpn_cls_feats=rpn_cls_feats,\n",
    "                       roi_reg_feats=roi_reg_feats,\n",
    "                       roi_cls_feats=roi_cls_feats)\n",
    "        return features"
   ]
  },
  {
   "cell_type": "code",
   "execution_count": null,
   "metadata": {},
   "outputs": [],
   "source": [
    "frcc= FasterRCNN(backbone, rpn, roi_head)"
   ]
  },
  {
   "cell_type": "code",
   "execution_count": null,
   "metadata": {},
   "outputs": [],
   "source": []
  },
  {
   "cell_type": "code",
   "execution_count": null,
   "metadata": {},
   "outputs": [],
   "source": []
  },
  {
   "cell_type": "code",
   "execution_count": null,
   "metadata": {},
   "outputs": [],
   "source": []
  },
  {
   "cell_type": "code",
   "execution_count": null,
   "metadata": {},
   "outputs": [],
   "source": []
  },
  {
   "cell_type": "code",
   "execution_count": null,
   "metadata": {},
   "outputs": [],
   "source": [
    "\"\"\"\n",
    "#TODO roi pooling layer, output roi, roi_head\n",
    "rpn_loss, roi_loss\n",
    "faster rcnn model outputs features only\n",
    "loss function will handle backprop\n",
    "\"\"\""
   ]
  },
  {
   "cell_type": "code",
   "execution_count": null,
   "metadata": {},
   "outputs": [],
   "source": []
  }
 ],
 "metadata": {
  "kernelspec": {
   "display_name": "Python [conda env:sdp_tw] *",
   "language": "python",
   "name": "conda-env-sdp_tw-py"
  }
 },
 "nbformat": 4,
 "nbformat_minor": 4
}
